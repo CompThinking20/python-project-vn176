{
 "cells": [
  {
   "cell_type": "code",
   "execution_count": null,
   "metadata": {},
   "outputs": [],
   "source": [
    "# to output if a NBA this season is rebuilding,competing,or championship level\n",
    "# based on the number the team is assigned\n",
    "# higher numbers more likely championship level\n",
    "# lower scored numbered teams are rebuilding or competing\n",
    "# to show the three different team options for the season"
   ]
  },
  {
   "cell_type": "markdown",
   "metadata": {},
   "source": []
  },
  {
   "cell_type": "code",
   "execution_count": 1,
   "metadata": {},
   "outputs": [
    {
     "name": "stdout",
     "output_type": "stream",
     "text": [
      "rebuild,compete,chip\n"
     ]
    }
   ],
   "source": [
    "def function1():\n",
    "    print(\"What team are you?\")\n",
    "    print(\"goal for season\")\n",
    "print(\"rebuild,compete,chip\")"
   ]
  },
  {
   "cell_type": "code",
   "execution_count": null,
   "metadata": {},
   "outputs": [],
   "source": [
    "function1"
   ]
  }
 ],
 "metadata": {
  "kernelspec": {
   "display_name": "Python 3",
   "language": "python",
   "name": "python3"
  },
  "language_info": {
   "codemirror_mode": {
    "name": "ipython",
    "version": 3
   },
   "file_extension": ".py",
   "mimetype": "text/x-python",
   "name": "python",
   "nbconvert_exporter": "python",
   "pygments_lexer": "ipython3",
   "version": "3.8.3"
  }
 },
 "nbformat": 4,
 "nbformat_minor": 4
}
