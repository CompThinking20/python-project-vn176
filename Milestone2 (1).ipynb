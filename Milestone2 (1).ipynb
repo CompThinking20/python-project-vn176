{
 "cells": [
  {
   "cell_type": "code",
   "execution_count": null,
   "metadata": {},
   "outputs": [],
   "source": [
    "# to output if a NBA this season is rebuilding,competing,or championship level\n",
    "# based on the number the team is assigned\n",
    "# higher numbers more likely championship level\n",
    "# lower scored numbered teams are rebuilding or competing\n",
    "# to show the three different team options for the season"
   ]
  },
  {
   "cell_type": "markdown",
   "metadata": {},
   "source": []
  },
  {
   "cell_type": "code",
   "execution_count": 21,
   "metadata": {},
   "outputs": [
    {
     "name": "stdout",
     "output_type": "stream",
     "text": [
      "rebuild,compete,chip\n"
     ]
    }
   ],
   "source": [
    "def function1():\n",
    "    print(\"What team are you?\")\n",
    "    print(\"What is your goal for season?\")\n",
    "print(\"rebuild,compete,chip?\")"
   ]
  },
  {
   "cell_type": "code",
   "execution_count": 2,
   "metadata": {
    "jupyter": {
     "source_hidden": true
    }
   },
   "outputs": [
    {
     "name": "stdout",
     "output_type": "stream",
     "text": [
      "What team are you?\n",
      "goal for season\n"
     ]
    }
   ],
   "source": [
    "function1()"
   ]
  },
  {
   "cell_type": "code",
   "execution_count": 2,
   "metadata": {},
   "outputs": [
    {
     "name": "stdin",
     "output_type": "stream",
     "text": [
      "What team are you? 76ers\n"
     ]
    }
   ],
   "source": [
    "team = input(\"What team are you?\")"
   ]
  },
  {
   "cell_type": "code",
   "execution_count": 10,
   "metadata": {},
   "outputs": [
    {
     "name": "stdout",
     "output_type": "stream",
     "text": [
      "76ers\n"
     ]
    }
   ],
   "source": [
    "print (team)"
   ]
  },
  {
   "cell_type": "code",
   "execution_count": 17,
   "metadata": {},
   "outputs": [
    {
     "name": "stdin",
     "output_type": "stream",
     "text": [
      "What team are you? Warriors\n"
     ]
    }
   ],
   "source": [
    "team = input(\"What team are you?\")\n"
   ]
  },
  {
   "cell_type": "code",
   "execution_count": 18,
   "metadata": {},
   "outputs": [
    {
     "name": "stdin",
     "output_type": "stream",
     "text": [
      "What team are you? Knicks\n"
     ]
    }
   ],
   "source": [
    "team = input(\"What team are you?\")"
   ]
  },
  {
   "cell_type": "code",
   "execution_count": 23,
   "metadata": {},
   "outputs": [
    {
     "name": "stdout",
     "output_type": "stream",
     "text": [
      "Knicks\n"
     ]
    }
   ],
   "source": [
    "print (team)"
   ]
  },
  {
   "cell_type": "code",
   "execution_count": 1,
   "metadata": {},
   "outputs": [
    {
     "name": "stdin",
     "output_type": "stream",
     "text": [
      "What is your goal for season? rebuild\n"
     ]
    }
   ],
   "source": [
    "goal = input(\"What is your goal for season?\")\n"
   ]
  },
  {
   "cell_type": "code",
   "execution_count": null,
   "metadata": {},
   "outputs": [],
   "source": [
    "#These functions above are made to output which team you are \n",
    "# The next input above us is to put out the question \"What is your goal for the season?\"\n",
    "# Putting Print () put outputs the team you input"
   ]
  },
  {
   "cell_type": "code",
   "execution_count": null,
   "metadata": {},
   "outputs": [],
   "source": []
  }
 ],
 "metadata": {
  "kernelspec": {
   "display_name": "Python 3",
   "language": "python",
   "name": "python3"
  },
  "language_info": {
   "codemirror_mode": {
    "name": "ipython",
    "version": 3
   },
   "file_extension": ".py",
   "mimetype": "text/x-python",
   "name": "python",
   "nbconvert_exporter": "python",
   "pygments_lexer": "ipython3",
   "version": "3.8.3"
  }
 },
 "nbformat": 4,
 "nbformat_minor": 4
}
