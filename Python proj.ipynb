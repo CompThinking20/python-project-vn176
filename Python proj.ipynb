{
 "cells": [
  {
   "cell_type": "code",
   "execution_count": null,
   "metadata": {},
   "outputs": [],
   "source": [
    "# to output if a NBA this season is rebuilding,competing,or championship level\n",
    "# based on the number the team is assigned\n",
    "# higher numbers more likely championship level\n",
    "# lower scored numbered teams are rebuilding or competing\n",
    "# to show the three different team options for the season"
   ]
  },
  {
   "cell_type": "markdown",
   "metadata": {},
   "source": []
  },
  {
   "cell_type": "code",
   "execution_count": 21,
   "metadata": {},
   "outputs": [
    {
     "name": "stdout",
     "output_type": "stream",
     "text": [
      "rebuild,compete,chip\n"
     ]
    }
   ],
   "source": [
    "def function1():\n",
    "    print(\"What team are you?\")\n",
    "    print(\"What is your goal for season?\")\n",
    "print(\"rebuild,compete,chip?\")"
   ]
  },
  {
   "cell_type": "code",
   "execution_count": 2,
   "metadata": {},
   "outputs": [
    {
     "name": "stdout",
     "output_type": "stream",
     "text": [
      "What team are you?\n",
      "goal for season\n"
     ]
    }
   ],
   "source": [
    "function1()"
   ]
  },
  {
   "cell_type": "code",
   "execution_count": 2,
   "metadata": {},
   "outputs": [
    {
     "name": "stdin",
     "output_type": "stream",
     "text": [
      "What team are you? 76ers\n"
     ]
    }
   ],
   "source": [
    "team = input(\"What team are you?\")"
   ]
  },
  {
   "cell_type": "code",
   "execution_count": 10,
   "metadata": {},
   "outputs": [
    {
     "name": "stdout",
     "output_type": "stream",
     "text": [
      "76ers\n"
     ]
    }
   ],
   "source": [
    "print (team)"
   ]
  },
  {
   "cell_type": "code",
   "execution_count": 17,
   "metadata": {},
   "outputs": [
    {
     "name": "stdin",
     "output_type": "stream",
     "text": [
      "What team are you? Warriors\n"
     ]
    }
   ],
   "source": [
    "team = input(\"What team are you?\")\n"
   ]
  },
  {
   "cell_type": "code",
   "execution_count": 18,
   "metadata": {},
   "outputs": [
    {
     "name": "stdin",
     "output_type": "stream",
     "text": [
      "What team are you? Knicks\n"
     ]
    }
   ],
   "source": [
    "team = input(\"What team are you?\")"
   ]
  },
  {
   "cell_type": "code",
   "execution_count": 23,
   "metadata": {},
   "outputs": [
    {
     "name": "stdout",
     "output_type": "stream",
     "text": [
      "Knicks\n"
     ]
    }
   ],
   "source": [
    "print (team)"
   ]
  },
  {
   "cell_type": "code",
   "execution_count": 1,
   "metadata": {},
   "outputs": [
    {
     "name": "stdin",
     "output_type": "stream",
     "text": [
      "What is your goal for season? rebuild\n"
     ]
    }
   ],
   "source": [
    "goal = input(\"What is your goal for season?\")\n"
   ]
  },
  {
   "cell_type": "code",
   "execution_count": null,
   "metadata": {},
   "outputs": [],
   "source": [
    "#These functions above are made to output which team you are \n",
    "# The next input above us is to put out the question \"What is your goal for the season?\"\n",
    "# Putting Print () put outputs the team you input"
   ]
  },
  {
   "cell_type": "code",
   "execution_count": null,
   "metadata": {},
   "outputs": [],
   "source": [
    "#The overall scope of the project was to make a function that should be able to put out weather team\n",
    "#is in rebuild mode, trying to compete or full blown chipchasing\n",
    "#ideally this project was supposed to run over the duration of a season so that way we know what each teams\n",
    "#outcome was.\n"
   ]
  },
  {
   "cell_type": "code",
   "execution_count": 1,
   "metadata": {},
   "outputs": [
    {
     "name": "stdin",
     "output_type": "stream",
     "text": [
      "What team are you? Lakers\n"
     ]
    }
   ],
   "source": [
    "team = input(\"What team are you?\")"
   ]
  },
  {
   "cell_type": "code",
   "execution_count": 2,
   "metadata": {},
   "outputs": [
    {
     "name": "stdout",
     "output_type": "stream",
     "text": [
      "Lakers\n"
     ]
    }
   ],
   "source": [
    "print (team)"
   ]
  },
  {
   "cell_type": "code",
   "execution_count": 3,
   "metadata": {},
   "outputs": [
    {
     "name": "stdin",
     "output_type": "stream",
     "text": [
      "What is your goal for season? Chip\n"
     ]
    }
   ],
   "source": [
    "goal = input(\"What is your goal for season?\")"
   ]
  },
  {
   "cell_type": "code",
   "execution_count": 4,
   "metadata": {},
   "outputs": [
    {
     "name": "stdin",
     "output_type": "stream",
     "text": [
      "What team are you? Clippers\n"
     ]
    }
   ],
   "source": [
    "team = input (\"What team are you?\")"
   ]
  },
  {
   "cell_type": "code",
   "execution_count": 5,
   "metadata": {},
   "outputs": [
    {
     "name": "stdout",
     "output_type": "stream",
     "text": [
      "Clippers\n"
     ]
    }
   ],
   "source": [
    "print (team)"
   ]
  },
  {
   "cell_type": "code",
   "execution_count": 6,
   "metadata": {},
   "outputs": [
    {
     "name": "stdin",
     "output_type": "stream",
     "text": [
      "What is your goal for season? Chip\n"
     ]
    }
   ],
   "source": [
    "goal = input(\"What is your goal for season?\")"
   ]
  },
  {
   "cell_type": "code",
   "execution_count": 7,
   "metadata": {},
   "outputs": [
    {
     "name": "stdin",
     "output_type": "stream",
     "text": [
      "What team are you? Nets\n"
     ]
    }
   ],
   "source": [
    "team = input (\"What team are you?\")"
   ]
  },
  {
   "cell_type": "code",
   "execution_count": 8,
   "metadata": {},
   "outputs": [
    {
     "name": "stdout",
     "output_type": "stream",
     "text": [
      "Nets\n"
     ]
    }
   ],
   "source": [
    "print (team)"
   ]
  },
  {
   "cell_type": "code",
   "execution_count": 9,
   "metadata": {},
   "outputs": [
    {
     "name": "stdin",
     "output_type": "stream",
     "text": [
      "What is your goal for season? Chip\n"
     ]
    }
   ],
   "source": [
    "goal = input(\"What is your goal for season?\")"
   ]
  },
  {
   "cell_type": "code",
   "execution_count": null,
   "metadata": {},
   "outputs": [],
   "source": [
    "#This process getting to this point has been long and grueling to say the least\n",
    "#Although i did not do milestone 1 fully correctly, the process was still difficult for me\n",
    "# Before I could even start milesstone 1 i had to download jupiter lab because it was most comfortbale for me\n",
    "# After that I watched the video on input like 3-4 times to gain better understanding\n",
    "# with Milestone 2 i was alot better prepared i met with the Professor and i learned the right way\n",
    "# The most impactful lectures with helping to complete this proj was the input lecture and  the blaseball proj."
   ]
  },
  {
   "cell_type": "code",
   "execution_count": null,
   "metadata": {},
   "outputs": [],
   "source": [
    "# You said i needed a function that actually worked, so I defined a function that actually worked.\n",
    "# Defining the function1 helped my proj to go smoothly, prior to the function i was doin things manually. "
   ]
  }
 ],
 "metadata": {
  "kernelspec": {
   "display_name": "Python 3",
   "language": "python",
   "name": "python3"
  },
  "language_info": {
   "codemirror_mode": {
    "name": "ipython",
    "version": 3
   },
   "file_extension": ".py",
   "mimetype": "text/x-python",
   "name": "python",
   "nbconvert_exporter": "python",
   "pygments_lexer": "ipython3",
   "version": "3.8.3"
  }
 },
 "nbformat": 4,
 "nbformat_minor": 4
}
